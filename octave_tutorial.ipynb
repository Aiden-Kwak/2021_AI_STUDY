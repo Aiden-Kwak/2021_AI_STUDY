{
 "cells": [
  {
   "cell_type": "code",
   "execution_count": 2,
   "metadata": {},
   "outputs": [
    {
     "name": "stdout",
     "output_type": "stream",
     "text": [
      "A =\n",
      "\n",
      "   1   2\n",
      "   3   4\n",
      "   5   6\n",
      "\n"
     ]
    }
   ],
   "source": [
    "A=[1 2;3 4;5 6]"
   ]
  },
  {
   "cell_type": "code",
   "execution_count": 3,
   "metadata": {},
   "outputs": [
    {
     "name": "stdout",
     "output_type": "stream",
     "text": [
      "ans =\n",
      "\n",
      "   3   2\n",
      "\n"
     ]
    }
   ],
   "source": [
    "size(A)"
   ]
  },
  {
   "cell_type": "code",
   "execution_count": 4,
   "metadata": {},
   "outputs": [
    {
     "name": "stdout",
     "output_type": "stream",
     "text": [
      "ans = D:\\ai\\Machine Learning_Andrew Ng\n"
     ]
    }
   ],
   "source": [
    "pwd"
   ]
  },
  {
   "cell_type": "code",
   "execution_count": 5,
   "metadata": {},
   "outputs": [
    {
     "name": "stdout",
     "output_type": "stream",
     "text": [
      " D ̺ :  \r\n",
      "  Ϸ ȣ: 2E11-4FD9\r\n",
      "\r\n",
      " D:\\ai\\Machine Learning_Andrew Ng ͸\r\n",
      "\r\n",
      "[.]                     [.ipynb_checkpoints]    \r\n",
      "[..]                    octave_tutorial.ipynb   \r\n",
      "               1                1,368 Ʈ\r\n",
      "               3 ͸  250,497,265,664 Ʈ \r\n"
     ]
    }
   ],
   "source": [
    "ls"
   ]
  },
  {
   "cell_type": "code",
   "execution_count": 6,
   "metadata": {},
   "outputs": [
    {
     "name": "stdout",
     "output_type": "stream",
     "text": [
      "v =\n",
      "\n",
      "   3999   1222   3444   5433   2345   6543   1245   3455   8765   4325\n",
      "\n"
     ]
    }
   ],
   "source": [
    "v=[3999,1222,3444,5433,2345,6543,1245,3455,8765,4325]"
   ]
  },
  {
   "cell_type": "code",
   "execution_count": 7,
   "metadata": {},
   "outputs": [],
   "source": [
    "save hello.txt v -ascii # 아스키로 저장"
   ]
  },
  {
   "cell_type": "code",
   "execution_count": 8,
   "metadata": {},
   "outputs": [
    {
     "name": "stdout",
     "output_type": "stream",
     "text": [
      "A =\n",
      "\n",
      "   1   2\n",
      "   3   4\n",
      "   5   6\n",
      "\n"
     ]
    }
   ],
   "source": [
    "A"
   ]
  },
  {
   "cell_type": "code",
   "execution_count": 9,
   "metadata": {},
   "outputs": [
    {
     "name": "stdout",
     "output_type": "stream",
     "text": [
      "ans = 6\n"
     ]
    }
   ],
   "source": [
    "A(3,2)"
   ]
  },
  {
   "cell_type": "code",
   "execution_count": 10,
   "metadata": {},
   "outputs": [
    {
     "name": "stdout",
     "output_type": "stream",
     "text": [
      "ans =\n",
      "\n",
      "   3   4\n",
      "\n"
     ]
    }
   ],
   "source": [
    "A(2,:) "
   ]
  },
  {
   "cell_type": "code",
   "execution_count": 11,
   "metadata": {},
   "outputs": [
    {
     "name": "stdout",
     "output_type": "stream",
     "text": [
      "ans =\n",
      "\n",
      "   2\n",
      "   4\n",
      "   6\n",
      "\n"
     ]
    }
   ],
   "source": [
    "A(:,2)"
   ]
  },
  {
   "cell_type": "code",
   "execution_count": 12,
   "metadata": {},
   "outputs": [
    {
     "name": "stdout",
     "output_type": "stream",
     "text": [
      "v =\n",
      "\n",
      "   3999\n",
      "   1222\n",
      "   3444\n",
      "   5433\n",
      "   2345\n",
      "   6543\n",
      "   1245\n",
      "   3455\n",
      "   8765\n",
      "   4325\n",
      "\n"
     ]
    }
   ],
   "source": [
    "v=[3999;1222;3444;5433;2345;6543;1245;3455;8765;4325]"
   ]
  },
  {
   "cell_type": "code",
   "execution_count": 13,
   "metadata": {},
   "outputs": [
    {
     "name": "stdout",
     "output_type": "stream",
     "text": [
      "ans =\n",
      "\n",
      "   1\n",
      "   3\n",
      "   5\n",
      "   2\n",
      "   4\n",
      "   6\n",
      "\n"
     ]
    }
   ],
   "source": [
    "A(:)"
   ]
  },
  {
   "cell_type": "code",
   "execution_count": 17,
   "metadata": {},
   "outputs": [
    {
     "name": "stdout",
     "output_type": "stream",
     "text": [
      "A =\n",
      "\n",
      "   1   2\n",
      "   3   4\n",
      "   5   6\n",
      "\n",
      "B =\n",
      "\n",
      "   11   12\n",
      "   13   14\n",
      "   15   16\n",
      "\n"
     ]
    }
   ],
   "source": [
    "A=[1 2; 3 4;5 6]\n",
    "B=[11 12;13 14;15 16]"
   ]
  },
  {
   "cell_type": "code",
   "execution_count": 18,
   "metadata": {},
   "outputs": [
    {
     "name": "stdout",
     "output_type": "stream",
     "text": [
      "C =\n",
      "\n",
      "    1    2   11   12\n",
      "    3    4   13   14\n",
      "    5    6   15   16\n",
      "\n"
     ]
    }
   ],
   "source": [
    "C=[A B] % 두개의 행렬을 연결"
   ]
  },
  {
   "cell_type": "code",
   "execution_count": 19,
   "metadata": {},
   "outputs": [
    {
     "name": "stdout",
     "output_type": "stream",
     "text": [
      "C =\n",
      "\n",
      "    1    2\n",
      "    3    4\n",
      "    5    6\n",
      "   11   12\n",
      "   13   14\n",
      "   15   16\n",
      "\n"
     ]
    }
   ],
   "source": [
    "C=[A;B]"
   ]
  },
  {
   "cell_type": "code",
   "execution_count": null,
   "metadata": {},
   "outputs": [],
   "source": []
  },
  {
   "cell_type": "code",
   "execution_count": null,
   "metadata": {},
   "outputs": [],
   "source": []
  },
  {
   "cell_type": "code",
   "execution_count": null,
   "metadata": {},
   "outputs": [],
   "source": []
  }
 ],
 "metadata": {
  "kernelspec": {
   "display_name": "Octave",
   "language": "octave",
   "name": "octave"
  },
  "language_info": {
   "file_extension": ".m",
   "help_links": [
    {
     "text": "GNU Octave",
     "url": "https://www.gnu.org/software/octave/support.html"
    },
    {
     "text": "Octave Kernel",
     "url": "https://github.com/Calysto/octave_kernel"
    },
    {
     "text": "MetaKernel Magics",
     "url": "https://metakernel.readthedocs.io/en/latest/source/README.html"
    }
   ],
   "mimetype": "text/x-octave",
   "name": "octave",
   "version": "6.1.0"
  }
 },
 "nbformat": 4,
 "nbformat_minor": 4
}
