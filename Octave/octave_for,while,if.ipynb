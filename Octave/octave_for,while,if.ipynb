{
 "cells": [
  {
   "cell_type": "code",
   "execution_count": 1,
   "id": "civilian-theology",
   "metadata": {},
   "outputs": [
    {
     "name": "stdout",
     "output_type": "stream",
     "text": [
      "v =\n",
      "\n",
      "   0\n",
      "   0\n",
      "   0\n",
      "   0\n",
      "   0\n",
      "   0\n",
      "   0\n",
      "   0\n",
      "   0\n",
      "   0\n",
      "\n"
     ]
    }
   ],
   "source": [
    "v=zeros(10,1)"
   ]
  },
  {
   "cell_type": "code",
   "execution_count": 2,
   "id": "funny-score",
   "metadata": {},
   "outputs": [
    {
     "name": "stdout",
     "output_type": "stream",
     "text": [
      "v =\n",
      "\n",
      "   2\n",
      "   0\n",
      "   0\n",
      "   0\n",
      "   0\n",
      "   0\n",
      "   0\n",
      "   0\n",
      "   0\n",
      "   0\n",
      "\n",
      "v =\n",
      "\n",
      "   2\n",
      "   2\n",
      "   0\n",
      "   0\n",
      "   0\n",
      "   0\n",
      "   0\n",
      "   0\n",
      "   0\n",
      "   0\n",
      "\n",
      "v =\n",
      "\n",
      "   2\n",
      "   2\n",
      "   2\n",
      "   0\n",
      "   0\n",
      "   0\n",
      "   0\n",
      "   0\n",
      "   0\n",
      "   0\n",
      "\n",
      "v =\n",
      "\n",
      "   2\n",
      "   2\n",
      "   2\n",
      "   2\n",
      "   0\n",
      "   0\n",
      "   0\n",
      "   0\n",
      "   0\n",
      "   0\n",
      "\n",
      "v =\n",
      "\n",
      "   2\n",
      "   2\n",
      "   2\n",
      "   2\n",
      "   2\n",
      "   0\n",
      "   0\n",
      "   0\n",
      "   0\n",
      "   0\n",
      "\n",
      "v =\n",
      "\n",
      "   2\n",
      "   2\n",
      "   2\n",
      "   2\n",
      "   2\n",
      "   2\n",
      "   0\n",
      "   0\n",
      "   0\n",
      "   0\n",
      "\n",
      "v =\n",
      "\n",
      "   2\n",
      "   2\n",
      "   2\n",
      "   2\n",
      "   2\n",
      "   2\n",
      "   2\n",
      "   0\n",
      "   0\n",
      "   0\n",
      "\n",
      "v =\n",
      "\n",
      "   2\n",
      "   2\n",
      "   2\n",
      "   2\n",
      "   2\n",
      "   2\n",
      "   2\n",
      "   2\n",
      "   0\n",
      "   0\n",
      "\n",
      "v =\n",
      "\n",
      "   2\n",
      "   2\n",
      "   2\n",
      "   2\n",
      "   2\n",
      "   2\n",
      "   2\n",
      "   2\n",
      "   2\n",
      "   0\n",
      "\n",
      "v =\n",
      "\n",
      "   2\n",
      "   2\n",
      "   2\n",
      "   2\n",
      "   2\n",
      "   2\n",
      "   2\n",
      "   2\n",
      "   2\n",
      "   2\n",
      "\n"
     ]
    }
   ],
   "source": [
    "for i=1:10,\n",
    "    v(i)=2\n",
    "end;"
   ]
  },
  {
   "cell_type": "code",
   "execution_count": 3,
   "id": "domestic-reporter",
   "metadata": {},
   "outputs": [
    {
     "name": "stdout",
     "output_type": "stream",
     "text": [
      "v =\n",
      "\n",
      "   2\n",
      "   2\n",
      "   2\n",
      "   2\n",
      "   2\n",
      "   2\n",
      "   2\n",
      "   2\n",
      "   2\n",
      "   2\n",
      "\n"
     ]
    }
   ],
   "source": [
    "v"
   ]
  },
  {
   "cell_type": "code",
   "execution_count": 4,
   "id": "rural-fifteen",
   "metadata": {},
   "outputs": [],
   "source": [
    "for i=1:10,\n",
    "v(i)=2^i;\n",
    "end;"
   ]
  },
  {
   "cell_type": "code",
   "execution_count": 5,
   "id": "german-recorder",
   "metadata": {},
   "outputs": [
    {
     "name": "stdout",
     "output_type": "stream",
     "text": [
      "v =\n",
      "\n",
      "      2\n",
      "      4\n",
      "      8\n",
      "     16\n",
      "     32\n",
      "     64\n",
      "    128\n",
      "    256\n",
      "    512\n",
      "   1024\n",
      "\n"
     ]
    }
   ],
   "source": [
    "v"
   ]
  },
  {
   "cell_type": "code",
   "execution_count": 6,
   "id": "prime-costa",
   "metadata": {},
   "outputs": [],
   "source": [
    "indices=1:10;"
   ]
  },
  {
   "cell_type": "code",
   "execution_count": 7,
   "id": "western-european",
   "metadata": {},
   "outputs": [
    {
     "name": "stdout",
     "output_type": "stream",
     "text": [
      "indices =\n",
      "\n",
      "    1    2    3    4    5    6    7    8    9   10\n",
      "\n"
     ]
    }
   ],
   "source": [
    "indices"
   ]
  },
  {
   "cell_type": "code",
   "execution_count": 8,
   "id": "british-kingston",
   "metadata": {},
   "outputs": [
    {
     "name": "stdout",
     "output_type": "stream",
     "text": [
      "1\n",
      "2\n",
      "3\n",
      "4\n",
      "5\n",
      "6\n",
      "7\n",
      "8\n",
      "9\n",
      "10\n"
     ]
    }
   ],
   "source": [
    "for i=indices,\n",
    "disp(i);\n",
    "end;"
   ]
  },
  {
   "cell_type": "code",
   "execution_count": 9,
   "id": "coated-rubber",
   "metadata": {},
   "outputs": [],
   "source": [
    "% break, continue 존재함"
   ]
  },
  {
   "cell_type": "code",
   "execution_count": 10,
   "id": "induced-conflict",
   "metadata": {},
   "outputs": [],
   "source": [
    "i=1;\n",
    "while i<=5,\n",
    "v(i)=100;\n",
    "i=i+1;\n",
    "end;"
   ]
  },
  {
   "cell_type": "code",
   "execution_count": 11,
   "id": "unexpected-gallery",
   "metadata": {},
   "outputs": [
    {
     "name": "stdout",
     "output_type": "stream",
     "text": [
      "v =\n",
      "\n",
      "    100\n",
      "    100\n",
      "    100\n",
      "    100\n",
      "    100\n",
      "     64\n",
      "    128\n",
      "    256\n",
      "    512\n",
      "   1024\n",
      "\n"
     ]
    }
   ],
   "source": [
    "v"
   ]
  },
  {
   "cell_type": "code",
   "execution_count": 12,
   "id": "distinct-lighter",
   "metadata": {},
   "outputs": [
    {
     "name": "stdout",
     "output_type": "stream",
     "text": [
      "i = 2\n",
      "i = 3\n",
      "i = 4\n",
      "i = 5\n",
      "i = 6\n"
     ]
    }
   ],
   "source": [
    "% 들여쓰기 헛갈림...스스로를 위해 그냥 해주자\n",
    "i=1;\n",
    "while true,\n",
    "    v(i)=999;\n",
    "    i=i+1\n",
    "    if i==6,\n",
    "        break;\n",
    "    end;\n",
    "end;"
   ]
  },
  {
   "cell_type": "code",
   "execution_count": 13,
   "id": "gentle-dublin",
   "metadata": {},
   "outputs": [
    {
     "name": "stdout",
     "output_type": "stream",
     "text": [
      "v =\n",
      "\n",
      "    999\n",
      "    999\n",
      "    999\n",
      "    999\n",
      "    999\n",
      "     64\n",
      "    128\n",
      "    256\n",
      "    512\n",
      "   1024\n",
      "\n"
     ]
    }
   ],
   "source": [
    "v"
   ]
  },
  {
   "cell_type": "code",
   "execution_count": 14,
   "id": "indie-while",
   "metadata": {},
   "outputs": [
    {
     "name": "stdout",
     "output_type": "stream",
     "text": [
      "ans = 999\n"
     ]
    }
   ],
   "source": [
    "v(1)"
   ]
  },
  {
   "cell_type": "code",
   "execution_count": 15,
   "id": "acoustic-israel",
   "metadata": {},
   "outputs": [],
   "source": [
    "v(1)=2;"
   ]
  },
  {
   "cell_type": "code",
   "execution_count": 16,
   "id": "basic-stick",
   "metadata": {},
   "outputs": [
    {
     "name": "stdout",
     "output_type": "stream",
     "text": [
      "ans = 2\n"
     ]
    }
   ],
   "source": [
    "v(1)"
   ]
  },
  {
   "cell_type": "code",
   "execution_count": 17,
   "id": "global-dictionary",
   "metadata": {},
   "outputs": [
    {
     "name": "stdout",
     "output_type": "stream",
     "text": [
      "value two\n"
     ]
    }
   ],
   "source": [
    "if v(1)==1,\n",
    "    disp('value one')\n",
    "elseif v(1)==2,\n",
    "    disp('value two')\n",
    "else\n",
    "    disp('no')\n",
    "end;"
   ]
  },
  {
   "cell_type": "markdown",
   "id": "bibliographic-welcome",
   "metadata": {},
   "source": [
    "만든 함수가져오기"
   ]
  },
  {
   "cell_type": "markdown",
   "id": "likely-mount",
   "metadata": {},
   "source": [
    "응아저씨는 pwd랑 cd로 위치를 변경함. 근데 난 저장소 바꿀때마다 쫄려서 다른 방법을 찾을거임"
   ]
  },
  {
   "cell_type": "code",
   "execution_count": 18,
   "id": "collectible-killing",
   "metadata": {},
   "outputs": [
    {
     "name": "stdout",
     "output_type": "stream",
     "text": [
      "error: load: failed to read matrix from file 'D:\\\\ai\\\\Machine Learning_Andrew Ng\\\\squareThisNumber.m'\n"
     ]
    }
   ],
   "source": [
    "load('D:\\\\ai\\\\Machine Learning_Andrew Ng\\\\squareThisNumber.m')\n",
    "%음 안되네"
   ]
  },
  {
   "cell_type": "code",
   "execution_count": 19,
   "id": "floating-reminder",
   "metadata": {},
   "outputs": [
    {
     "name": "stdout",
     "output_type": "stream",
     "text": [
      "ans = D:\\ai\\Machine Learning_Andrew Ng\n"
     ]
    }
   ],
   "source": [
    "pwd % 생각해보니까 어차피 같은 경로임"
   ]
  },
  {
   "cell_type": "code",
   "execution_count": 25,
   "id": "integrated-hungarian",
   "metadata": {},
   "outputs": [
    {
     "name": "stdout",
     "output_type": "stream",
     "text": [
      "squareThisNumber.m\n"
     ]
    }
   ],
   "source": [
    "dir *.m"
   ]
  },
  {
   "cell_type": "code",
   "execution_count": 26,
   "id": "connected-fifth",
   "metadata": {},
   "outputs": [
    {
     "name": "stdout",
     "output_type": "stream",
     "text": [
      "squareThisNumber.m is the user-defined function defined from: D:\\ai\\Machine Learning_Andrew Ng\\squareThisNumber.m\n",
      "\n",
      "function y=squareThisNumber(x)\r\n",
      "y=x^2;\n"
     ]
    }
   ],
   "source": [
    "type squareThisNumber.m"
   ]
  },
  {
   "cell_type": "code",
   "execution_count": 27,
   "id": "peripheral-trick",
   "metadata": {},
   "outputs": [
    {
     "name": "stdout",
     "output_type": "stream",
     "text": [
      "ans = 25\n"
     ]
    }
   ],
   "source": [
    "squareThisNumber(5)"
   ]
  },
  {
   "cell_type": "markdown",
   "id": "infectious-knife",
   "metadata": {},
   "source": [
    "함수 입력이 여러개인 경우"
   ]
  },
  {
   "cell_type": "code",
   "execution_count": 28,
   "id": "wanted-audio",
   "metadata": {},
   "outputs": [
    {
     "name": "stdout",
     "output_type": "stream",
     "text": [
      "ans = 21\n"
     ]
    }
   ],
   "source": [
    "function output=multi(x,y)\n",
    "output=x*y;\n",
    "end\n",
    "\n",
    "multi(3,7)"
   ]
  },
  {
   "cell_type": "markdown",
   "id": "extraordinary-steps",
   "metadata": {},
   "source": [
    "함수의 출력이 여러개인 경우"
   ]
  },
  {
   "cell_type": "code",
   "execution_count": 30,
   "id": "broken-anchor",
   "metadata": {},
   "outputs": [
    {
     "name": "stdout",
     "output_type": "stream",
     "text": [
      "A = 314.16\n",
      "S = 62.832\n"
     ]
    }
   ],
   "source": [
    "function [area, circum]=circle(radius)\n",
    "area=pi*radius^2;\n",
    "circum=2*pi*radius;\n",
    "end\n",
    "\n",
    "[A,S]=circle(10)"
   ]
  },
  {
   "cell_type": "code",
   "execution_count": 39,
   "id": "white-cardiff",
   "metadata": {},
   "outputs": [
    {
     "name": "stdout",
     "output_type": "stream",
     "text": [
      "X =\n",
      "\n",
      "   1   1\n",
      "   1   2\n",
      "   1   3\n",
      "\n"
     ]
    }
   ],
   "source": [
    "X=[1 1;1 2;1 3]"
   ]
  },
  {
   "cell_type": "code",
   "execution_count": 40,
   "id": "horizontal-guest",
   "metadata": {},
   "outputs": [
    {
     "name": "stdout",
     "output_type": "stream",
     "text": [
      "y =\n",
      "\n",
      "   1\n",
      "   2\n",
      "   3\n",
      "\n"
     ]
    }
   ],
   "source": [
    "y=[1; 2; 3]"
   ]
  },
  {
   "cell_type": "code",
   "execution_count": 41,
   "id": "latin-miracle",
   "metadata": {},
   "outputs": [
    {
     "name": "stdout",
     "output_type": "stream",
     "text": [
      "costFunctionJ.m     squareThisNumber.m\n"
     ]
    }
   ],
   "source": [
    "dir *.m"
   ]
  },
  {
   "cell_type": "code",
   "execution_count": 45,
   "id": "facial-motivation",
   "metadata": {},
   "outputs": [
    {
     "name": "stdout",
     "output_type": "stream",
     "text": [
      "costFunctionJ.m is the user-defined function defined from: D:\\ai\\Machine Learning_Andrew Ng\\costFunctionJ.m\n",
      "\n",
      "function J=costFunctionJ(X,y,theta)\r\n",
      "\r\n",
      "% X is the 'design matrix' containing our training examples\r\n",
      "% y is the class labels\r\n",
      "\r\n",
      "m=size(X,1); %number of training examples\r\n",
      "predictions=X*theta; %prediction of hypothesis on all m examples\r\n",
      "sqrErrors=(predictions-y).^2; %squared sqrErrors\r\n",
      "\r\n",
      "J=1/(2*m)*sum(sqrErrors);\n"
     ]
    }
   ],
   "source": [
    "type costFunctionJ.m"
   ]
  },
  {
   "cell_type": "code",
   "execution_count": 46,
   "id": "wooden-avatar",
   "metadata": {},
   "outputs": [],
   "source": [
    "theta=[0;1];"
   ]
  },
  {
   "cell_type": "code",
   "execution_count": 47,
   "id": "neural-works",
   "metadata": {},
   "outputs": [
    {
     "name": "stdout",
     "output_type": "stream",
     "text": [
      "j = 0\n"
     ]
    }
   ],
   "source": [
    "j=costFunctionJ(X,y,theta)"
   ]
  },
  {
   "cell_type": "code",
   "execution_count": null,
   "id": "ceramic-occasion",
   "metadata": {},
   "outputs": [],
   "source": []
  },
  {
   "cell_type": "code",
   "execution_count": null,
   "id": "present-picture",
   "metadata": {},
   "outputs": [],
   "source": []
  },
  {
   "cell_type": "code",
   "execution_count": null,
   "id": "parental-anger",
   "metadata": {},
   "outputs": [],
   "source": []
  }
 ],
 "metadata": {
  "kernelspec": {
   "display_name": "Octave",
   "language": "octave",
   "name": "octave"
  },
  "language_info": {
   "file_extension": ".m",
   "help_links": [
    {
     "text": "GNU Octave",
     "url": "https://www.gnu.org/software/octave/support.html"
    },
    {
     "text": "Octave Kernel",
     "url": "https://github.com/Calysto/octave_kernel"
    },
    {
     "text": "MetaKernel Magics",
     "url": "https://metakernel.readthedocs.io/en/latest/source/README.html"
    }
   ],
   "mimetype": "text/x-octave",
   "name": "octave",
   "version": "6.1.0"
  }
 },
 "nbformat": 4,
 "nbformat_minor": 5
}
