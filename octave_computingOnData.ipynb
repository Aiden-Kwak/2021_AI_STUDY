{
 "cells": [
  {
   "cell_type": "code",
   "execution_count": 1,
   "metadata": {},
   "outputs": [
    {
     "name": "stdout",
     "output_type": "stream",
     "text": [
      "A =\n",
      "\n",
      "   1   2\n",
      "   3   4\n",
      "   5   6\n",
      "\n",
      "B =\n",
      "\n",
      "   11   12\n",
      "   13   14\n",
      "   15   16\n",
      "\n",
      "C =\n",
      "\n",
      "   1   1\n",
      "   2   2\n",
      "\n"
     ]
    }
   ],
   "source": [
    "A=[1 2;3 4;5 6]\n",
    "B=[11 12;13 14;15 16]\n",
    "C=[1 1;2 2]"
   ]
  },
  {
   "cell_type": "code",
   "execution_count": 2,
   "metadata": {},
   "outputs": [
    {
     "name": "stdout",
     "output_type": "stream",
     "text": [
      "ans =\n",
      "\n",
      "    5    5\n",
      "   11   11\n",
      "   17   17\n",
      "\n"
     ]
    }
   ],
   "source": [
    "A*C"
   ]
  },
  {
   "cell_type": "code",
   "execution_count": 3,
   "metadata": {},
   "outputs": [
    {
     "name": "stdout",
     "output_type": "stream",
     "text": [
      "error: product: nonconformant arguments (op1 is 3x2, op2 is 2x2)\n"
     ]
    }
   ],
   "source": [
    "A.*C %.*는 요소별 곱셈이다."
   ]
  },
  {
   "cell_type": "code",
   "execution_count": 4,
   "metadata": {},
   "outputs": [
    {
     "name": "stdout",
     "output_type": "stream",
     "text": [
      "ans =\n",
      "\n",
      "   11   24\n",
      "   39   56\n",
      "   75   96\n",
      "\n"
     ]
    }
   ],
   "source": [
    "A.*B %행렬 사이즈가 같아야하고 각 대응하는 요소끼리를 곱한다"
   ]
  },
  {
   "cell_type": "code",
   "execution_count": 6,
   "metadata": {},
   "outputs": [
    {
     "name": "stdout",
     "output_type": "stream",
     "text": [
      "ans =\n",
      "\n",
      "    1    4\n",
      "    9   16\n",
      "   25   36\n",
      "\n"
     ]
    }
   ],
   "source": [
    "A.^2 %각 요소는 제곱이 된다"
   ]
  },
  {
   "cell_type": "code",
   "execution_count": 7,
   "metadata": {},
   "outputs": [
    {
     "name": "stdout",
     "output_type": "stream",
     "text": [
      "v =\n",
      "\n",
      "   1\n",
      "   2\n",
      "   3\n",
      "\n"
     ]
    }
   ],
   "source": [
    "v=[1;2;3]"
   ]
  },
  {
   "cell_type": "code",
   "execution_count": 8,
   "metadata": {},
   "outputs": [
    {
     "name": "stdout",
     "output_type": "stream",
     "text": [
      "ans =\n",
      "\n",
      "   1.0000\n",
      "   0.5000\n",
      "   0.3333\n",
      "\n"
     ]
    }
   ],
   "source": [
    "1./v"
   ]
  },
  {
   "cell_type": "code",
   "execution_count": 9,
   "metadata": {},
   "outputs": [
    {
     "name": "stdout",
     "output_type": "stream",
     "text": [
      "ans =\n",
      "\n",
      "        0\n",
      "   0.6931\n",
      "   1.0986\n",
      "\n"
     ]
    }
   ],
   "source": [
    "log(v)"
   ]
  },
  {
   "cell_type": "code",
   "execution_count": 10,
   "metadata": {},
   "outputs": [
    {
     "name": "stdout",
     "output_type": "stream",
     "text": [
      "ans =\n",
      "\n",
      "    2.7183\n",
      "    7.3891\n",
      "   20.0855\n",
      "\n"
     ]
    }
   ],
   "source": [
    "exp(v)"
   ]
  },
  {
   "cell_type": "code",
   "execution_count": 11,
   "metadata": {},
   "outputs": [
    {
     "name": "stdout",
     "output_type": "stream",
     "text": [
      "ans =\n",
      "\n",
      "   1\n",
      "   2\n",
      "   3\n",
      "\n"
     ]
    }
   ],
   "source": [
    "abs(v) %절댓값"
   ]
  },
  {
   "cell_type": "code",
   "execution_count": 12,
   "metadata": {},
   "outputs": [
    {
     "name": "stdout",
     "output_type": "stream",
     "text": [
      "ans =\n",
      "\n",
      "   1\n",
      "   2\n",
      "   5\n",
      "\n"
     ]
    }
   ],
   "source": [
    "abs([-1;2;-5])"
   ]
  },
  {
   "cell_type": "code",
   "execution_count": 13,
   "metadata": {},
   "outputs": [
    {
     "name": "stdout",
     "output_type": "stream",
     "text": [
      "ans =\n",
      "\n",
      "  -1\n",
      "  -2\n",
      "  -3\n",
      "\n"
     ]
    }
   ],
   "source": [
    "-v"
   ]
  },
  {
   "cell_type": "code",
   "execution_count": 14,
   "metadata": {},
   "outputs": [
    {
     "name": "stdout",
     "output_type": "stream",
     "text": [
      "ans =\n",
      "\n",
      "   1   1   1\n",
      "   1   1   1\n",
      "\n"
     ]
    }
   ],
   "source": [
    "ones(2,3) % 1로된 행렬만든다"
   ]
  },
  {
   "cell_type": "code",
   "execution_count": 15,
   "metadata": {},
   "outputs": [
    {
     "name": "stdout",
     "output_type": "stream",
     "text": [
      "C =\n",
      "\n",
      "   2   2   2\n",
      "   2   2   2\n",
      "\n"
     ]
    }
   ],
   "source": [
    "C=2*ones(2,3)"
   ]
  },
  {
   "cell_type": "code",
   "execution_count": 16,
   "metadata": {},
   "outputs": [
    {
     "name": "stdout",
     "output_type": "stream",
     "text": [
      "w =\n",
      "\n",
      "  0  0  0\n",
      "\n"
     ]
    }
   ],
   "source": [
    "w=zeros(1,3)"
   ]
  },
  {
   "cell_type": "code",
   "execution_count": 17,
   "metadata": {},
   "outputs": [
    {
     "name": "stdout",
     "output_type": "stream",
     "text": [
      "w =\n",
      "\n",
      "   0.698538   0.087727   0.666921\n",
      "\n"
     ]
    }
   ],
   "source": [
    "w=rand(1,3) %random"
   ]
  },
  {
   "cell_type": "code",
   "execution_count": 18,
   "metadata": {},
   "outputs": [
    {
     "name": "stdout",
     "output_type": "stream",
     "text": [
      "ans =\n",
      "\n",
      "   2\n",
      "   3\n",
      "   4\n",
      "\n"
     ]
    }
   ],
   "source": [
    "v+ones(length(v),1)"
   ]
  },
  {
   "cell_type": "code",
   "execution_count": 19,
   "metadata": {},
   "outputs": [
    {
     "name": "stdout",
     "output_type": "stream",
     "text": [
      "ans =\n",
      "\n",
      "   2\n",
      "   3\n",
      "   4\n",
      "\n"
     ]
    }
   ],
   "source": [
    "v+1 %위에랑 똑같은 결과"
   ]
  },
  {
   "cell_type": "code",
   "execution_count": 20,
   "metadata": {},
   "outputs": [
    {
     "name": "stdout",
     "output_type": "stream",
     "text": [
      "A =\n",
      "\n",
      "   1   2\n",
      "   3   4\n",
      "   5   6\n",
      "\n"
     ]
    }
   ],
   "source": [
    "A"
   ]
  },
  {
   "cell_type": "code",
   "execution_count": 22,
   "metadata": {},
   "outputs": [
    {
     "name": "stdout",
     "output_type": "stream",
     "text": [
      "ans =\n",
      "\n",
      "   1   3   5\n",
      "   2   4   6\n",
      "\n"
     ]
    }
   ],
   "source": [
    "A' % 전치행렬구해줌 (Transpose)"
   ]
  },
  {
   "cell_type": "code",
   "execution_count": 23,
   "metadata": {},
   "outputs": [
    {
     "name": "stdout",
     "output_type": "stream",
     "text": [
      "a =\n",
      "\n",
      "    1.0000   15.0000    2.0000    0.5000\n",
      "\n"
     ]
    }
   ],
   "source": [
    "a=[1 15 2 0.5]"
   ]
  },
  {
   "cell_type": "code",
   "execution_count": 25,
   "metadata": {},
   "outputs": [
    {
     "name": "stdout",
     "output_type": "stream",
     "text": [
      "val = 15\n"
     ]
    }
   ],
   "source": [
    "val=max(a) % 최댓값 구해줌"
   ]
  },
  {
   "cell_type": "code",
   "execution_count": 26,
   "metadata": {},
   "outputs": [
    {
     "name": "stdout",
     "output_type": "stream",
     "text": [
      "val = 15\n",
      "index = 2\n"
     ]
    }
   ],
   "source": [
    "[val,index]=max(a)"
   ]
  },
  {
   "cell_type": "code",
   "execution_count": 27,
   "metadata": {},
   "outputs": [
    {
     "name": "stdout",
     "output_type": "stream",
     "text": [
      "ans =\n",
      "\n",
      "  1  0  1  1\n",
      "\n"
     ]
    }
   ],
   "source": [
    "a<3 % 맞으면 1 틀리면 0"
   ]
  },
  {
   "cell_type": "code",
   "execution_count": 29,
   "metadata": {},
   "outputs": [
    {
     "name": "stdout",
     "output_type": "stream",
     "text": [
      "ans =\n",
      "\n",
      "   1   3   4\n",
      "\n"
     ]
    }
   ],
   "source": [
    "find(a<3) # 해당되는 부분 인덱스를 구해줌"
   ]
  },
  {
   "cell_type": "code",
   "execution_count": 31,
   "metadata": {},
   "outputs": [
    {
     "name": "stdout",
     "output_type": "stream",
     "text": [
      "A =\n",
      "\n",
      "   8   1   6\n",
      "   3   5   7\n",
      "   4   9   2\n",
      "\n"
     ]
    }
   ],
   "source": [
    "A=magic(3) # 마방진 만들어줌. 기계학습에서 쓸모는 없으나 응아저씨는 3*3행렬 만들때 쓴다함"
   ]
  },
  {
   "cell_type": "code",
   "execution_count": 32,
   "metadata": {},
   "outputs": [
    {
     "name": "stdout",
     "output_type": "stream",
     "text": [
      "row =\n",
      "\n",
      "   1\n",
      "   3\n",
      "   2\n",
      "\n",
      "column =\n",
      "\n",
      "   1\n",
      "   2\n",
      "   3\n",
      "\n"
     ]
    }
   ],
   "source": [
    "[row,column]=find(A>=7) %(1,1) (3,2) (2,3)해당된다"
   ]
  },
  {
   "cell_type": "code",
   "execution_count": 33,
   "metadata": {},
   "outputs": [
    {
     "name": "stdout",
     "output_type": "stream",
     "text": [
      "ans =\n",
      "\n",
      "   15   15   15\n",
      "\n"
     ]
    }
   ],
   "source": [
    "sum(A) % +"
   ]
  },
  {
   "cell_type": "code",
   "execution_count": 41,
   "metadata": {},
   "outputs": [
    {
     "name": "stdout",
     "output_type": "stream",
     "text": [
      "ans = 45\n"
     ]
    }
   ],
   "source": [
    "sum(sum(A))"
   ]
  },
  {
   "cell_type": "code",
   "execution_count": 34,
   "metadata": {},
   "outputs": [
    {
     "name": "stdout",
     "output_type": "stream",
     "text": [
      "ans =\n",
      "\n",
      "   96   45   84\n",
      "\n"
     ]
    }
   ],
   "source": [
    "prod(A) % *"
   ]
  },
  {
   "cell_type": "code",
   "execution_count": 36,
   "metadata": {},
   "outputs": [
    {
     "name": "stdout",
     "output_type": "stream",
     "text": [
      "ans =\n",
      "\n",
      "    1   15    2    0\n",
      "\n"
     ]
    }
   ],
   "source": [
    "floor(a) % 끝자리 버림"
   ]
  },
  {
   "cell_type": "code",
   "execution_count": 37,
   "metadata": {},
   "outputs": [
    {
     "name": "stdout",
     "output_type": "stream",
     "text": [
      "ans =\n",
      "\n",
      "    1   15    2    1\n",
      "\n"
     ]
    }
   ],
   "source": [
    "ceil(a)  % 반올림"
   ]
  },
  {
   "cell_type": "code",
   "execution_count": 39,
   "metadata": {},
   "outputs": [
    {
     "name": "stdout",
     "output_type": "stream",
     "text": [
      "ans =\n",
      "\n",
      "   8   9   7\n",
      "\n"
     ]
    }
   ],
   "source": [
    "max(A,[],1) # 1이 의미하는 건 열의 원소중 최댓값"
   ]
  },
  {
   "cell_type": "code",
   "execution_count": 40,
   "metadata": {},
   "outputs": [
    {
     "name": "stdout",
     "output_type": "stream",
     "text": [
      "ans =\n",
      "\n",
      "   8\n",
      "   7\n",
      "   9\n",
      "\n"
     ]
    }
   ],
   "source": [
    "max(A,[],2) # 2이 의미하는 건 행의 원소중 최댓값"
   ]
  },
  {
   "cell_type": "code",
   "execution_count": 42,
   "metadata": {},
   "outputs": [
    {
     "name": "stdout",
     "output_type": "stream",
     "text": [
      "A =\n",
      "\n",
      "   47   58   69   80    1   12   23   34   45\n",
      "   57   68   79    9   11   22   33   44   46\n",
      "   67   78    8   10   21   32   43   54   56\n",
      "   77    7   18   20   31   42   53   55   66\n",
      "    6   17   19   30   41   52   63   65   76\n",
      "   16   27   29   40   51   62   64   75    5\n",
      "   26   28   39   50   61   72   74    4   15\n",
      "   36   38   49   60   71   73    3   14   25\n",
      "   37   48   59   70   81    2   13   24   35\n",
      "\n"
     ]
    }
   ],
   "source": [
    "A=magic(9)"
   ]
  },
  {
   "cell_type": "code",
   "execution_count": 43,
   "metadata": {},
   "outputs": [
    {
     "name": "stdout",
     "output_type": "stream",
     "text": [
      "ans =\n",
      "\n",
      "   369   369   369   369   369   369   369   369   369\n",
      "\n"
     ]
    }
   ],
   "source": [
    "sum(A,1)"
   ]
  },
  {
   "cell_type": "code",
   "execution_count": 44,
   "metadata": {},
   "outputs": [
    {
     "name": "stdout",
     "output_type": "stream",
     "text": [
      "ans =\n",
      "\n",
      "   369\n",
      "   369\n",
      "   369\n",
      "   369\n",
      "   369\n",
      "   369\n",
      "   369\n",
      "   369\n",
      "   369\n",
      "\n"
     ]
    }
   ],
   "source": [
    "sum(A,2)"
   ]
  },
  {
   "cell_type": "code",
   "execution_count": 45,
   "metadata": {},
   "outputs": [
    {
     "name": "stdout",
     "output_type": "stream",
     "text": [
      "ans =\n",
      "\n",
      "Diagonal Matrix\n",
      "\n",
      "   1   0   0   0   0   0   0   0   0\n",
      "   0   1   0   0   0   0   0   0   0\n",
      "   0   0   1   0   0   0   0   0   0\n",
      "   0   0   0   1   0   0   0   0   0\n",
      "   0   0   0   0   1   0   0   0   0\n",
      "   0   0   0   0   0   1   0   0   0\n",
      "   0   0   0   0   0   0   1   0   0\n",
      "   0   0   0   0   0   0   0   1   0\n",
      "   0   0   0   0   0   0   0   0   1\n",
      "\n"
     ]
    }
   ],
   "source": [
    "eye(9)"
   ]
  },
  {
   "cell_type": "code",
   "execution_count": 46,
   "metadata": {},
   "outputs": [
    {
     "name": "stdout",
     "output_type": "stream",
     "text": [
      "ans =\n",
      "\n",
      "   47    0    0    0    0    0    0    0    0\n",
      "    0   68    0    0    0    0    0    0    0\n",
      "    0    0    8    0    0    0    0    0    0\n",
      "    0    0    0   20    0    0    0    0    0\n",
      "    0    0    0    0   41    0    0    0    0\n",
      "    0    0    0    0    0   62    0    0    0\n",
      "    0    0    0    0    0    0   74    0    0\n",
      "    0    0    0    0    0    0    0   14    0\n",
      "    0    0    0    0    0    0    0    0   35\n",
      "\n"
     ]
    }
   ],
   "source": [
    "A.*eye(9)"
   ]
  },
  {
   "cell_type": "code",
   "execution_count": 47,
   "metadata": {},
   "outputs": [
    {
     "name": "stdout",
     "output_type": "stream",
     "text": [
      "ans = 369\n"
     ]
    }
   ],
   "source": [
    "sum(sum(A.*eye(9)))"
   ]
  },
  {
   "cell_type": "code",
   "execution_count": 50,
   "metadata": {},
   "outputs": [
    {
     "name": "stdout",
     "output_type": "stream",
     "text": [
      "ans =\n",
      "\n",
      "Permutation Matrix\n",
      "\n",
      "   0   0   0   0   0   0   0   0   1\n",
      "   0   0   0   0   0   0   0   1   0\n",
      "   0   0   0   0   0   0   1   0   0\n",
      "   0   0   0   0   0   1   0   0   0\n",
      "   0   0   0   0   1   0   0   0   0\n",
      "   0   0   0   1   0   0   0   0   0\n",
      "   0   0   1   0   0   0   0   0   0\n",
      "   0   1   0   0   0   0   0   0   0\n",
      "   1   0   0   0   0   0   0   0   0\n",
      "\n"
     ]
    }
   ],
   "source": [
    "flipud(eye(9)) % 행렬 뒤집어줌"
   ]
  },
  {
   "cell_type": "code",
   "execution_count": 51,
   "metadata": {},
   "outputs": [
    {
     "name": "stdout",
     "output_type": "stream",
     "text": [
      "A =\n",
      "\n",
      "   8   1   6\n",
      "   3   5   7\n",
      "   4   9   2\n",
      "\n"
     ]
    }
   ],
   "source": [
    "A=magic(3)"
   ]
  },
  {
   "cell_type": "code",
   "execution_count": 53,
   "metadata": {},
   "outputs": [
    {
     "name": "stdout",
     "output_type": "stream",
     "text": [
      "ans =\n",
      "\n",
      "   0.147222  -0.144444   0.063889\n",
      "  -0.061111   0.022222   0.105556\n",
      "  -0.019444   0.188889  -0.102778\n",
      "\n"
     ]
    }
   ],
   "source": [
    "pinv(A) % 역행렬 구함"
   ]
  },
  {
   "cell_type": "code",
   "execution_count": null,
   "metadata": {},
   "outputs": [],
   "source": []
  },
  {
   "cell_type": "code",
   "execution_count": null,
   "metadata": {},
   "outputs": [],
   "source": []
  },
  {
   "cell_type": "code",
   "execution_count": null,
   "metadata": {},
   "outputs": [],
   "source": []
  }
 ],
 "metadata": {
  "kernelspec": {
   "display_name": "Octave",
   "language": "octave",
   "name": "octave"
  },
  "language_info": {
   "file_extension": ".m",
   "help_links": [
    {
     "text": "GNU Octave",
     "url": "https://www.gnu.org/software/octave/support.html"
    },
    {
     "text": "Octave Kernel",
     "url": "https://github.com/Calysto/octave_kernel"
    },
    {
     "text": "MetaKernel Magics",
     "url": "https://metakernel.readthedocs.io/en/latest/source/README.html"
    }
   ],
   "mimetype": "text/x-octave",
   "name": "octave",
   "version": "6.1.0"
  }
 },
 "nbformat": 4,
 "nbformat_minor": 4
}
